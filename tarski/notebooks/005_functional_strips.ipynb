{
 "cells": [
  {
   "cell_type": "code",
   "execution_count": 1,
   "metadata": {
    "collapsed": true
   },
   "outputs": [],
   "source": [
    "import sys\n",
    "sys.path.append('../src')\n",
    "import tarski\n",
    "from tarski.symbols import *"
   ]
  },
  {
   "cell_type": "markdown",
   "metadata": {
    "collapsed": true
   },
   "source": [
    "# Functional STRIPS"
   ]
  },
  {
   "cell_type": "markdown",
   "metadata": {},
   "source": [
    "Functional STRIPS (FSTRIPS, for short) is a classical planning language that extends STRIPS with functional systems in order to provide a number of _expressive_ **and** _computational_ advantages, such as the ability of making indirect refernce to domain objects through the use of nested terms.\n",
    "\n",
    "```Tarski``` lifts [Geffner's original restrictions]() on the language, and follows a full first-order logic approach. We will use the classical Blocks World domain as a running example."
   ]
  },
  {
   "cell_type": "markdown",
   "metadata": {},
   "source": [
    "### Problem Language"
   ]
  },
  {
   "cell_type": "markdown",
   "metadata": {},
   "source": [
    "```Tarski``` supports the formulation of FSTRIPS problems $P$ defined over a many-sorted first-order logic language with equality. We note the language associated with a prolem $P$ as ${\\cal L}(P)$.\n",
    "\n",
    "As we have seen in previous chapters of this Tutorial, ```Tarski``` languages are made up of a finite set of sorts $T$, a possibly infinite number of variables $v_{1}^t$, $v_{2}^t, \\ldots$ for each sort $t \\in T$, a set $\\Phi$ of _function symbols_ and a set $\\Pi$ of _relation symbols_, assumed to include a number of symbols with fixed denotation, such as equality.\n",
    "\n",
    "We can create the language ${\\cal L}(P)$ for _Blocks World_ as follows"
   ]
  },
  {
   "cell_type": "code",
   "execution_count": 2,
   "metadata": {},
   "outputs": [
    {
     "name": "stdout",
     "output_type": "stream",
     "text": [
      "Binding operators to language: BlocksWorld: Tarski language with 4 sorts, 0 function symbols, 6 predicate symbols and 0 variables\n",
      "Loaded theory 'arithmetic'\n"
     ]
    }
   ],
   "source": [
    "# 1. Create language to model the domain\n",
    "bw = tarski.language('BlocksWorld')\n",
    "bw.load_theory('arithmetic')"
   ]
  },
  {
   "cell_type": "markdown",
   "metadata": {},
   "source": [
    "along with types $T_{blocksworld}$,"
   ]
  },
  {
   "cell_type": "code",
   "execution_count": 3,
   "metadata": {
    "collapsed": true
   },
   "outputs": [],
   "source": [
    "# 2. Define sorts that organise the objects considered\n",
    "place = bw.sort('place')\n",
    "block = bw.sort('block', [place])"
   ]
  },
  {
   "cell_type": "markdown",
   "metadata": {},
   "source": [
    "domain specific function symbols $\\phi_{blocks world}$"
   ]
  },
  {
   "cell_type": "code",
   "execution_count": 4,
   "metadata": {
    "collapsed": true
   },
   "outputs": [],
   "source": [
    "# 3. Define functions\n",
    "loc = bw.function( 'loc', block, place )\n",
    "width = bw.function('width', place, bw.Real)\n",
    "looking_at = bw.function( 'looking_at', block )"
   ]
  },
  {
   "cell_type": "markdown",
   "metadata": {},
   "source": [
    "and domain specific predicate symbols $\\Pi_{blocksworld}$"
   ]
  },
  {
   "cell_type": "code",
   "execution_count": 5,
   "metadata": {
    "collapsed": true
   },
   "outputs": [],
   "source": [
    "# 4. Define predicates\n",
    "clear = bw.predicate( 'clear', block)"
   ]
  },
  {
   "cell_type": "markdown",
   "metadata": {},
   "source": [
    "## Problem Interpretations"
   ]
  },
  {
   "cell_type": "markdown",
   "metadata": {},
   "source": [
    "The current version of ```Tarski``` requires that the [universe of discourse](https://en.wikipedia.org/wiki/Domain_of_discourse#Universe_of_discourse) in any FSTRIPS problem $P$ is **fixed**. That is, all valid interpretations ${\\cal M}$ for ${\\cal L}(P)$ have the same universe, denoted by ${\\cal U}_P = \\{ {\\cal U}_t \\}_{t \\in T}$. It is further required that the universe ${\\cal U}_t$ of any sort $t$ is _finite_, this is a limitation of the current and provably future versions of ```Tarski```.\n",
    "\n",
    "In our model of _Blocks World_ interpretations ${\\cal M}$ for ${\\cal L}(P)$ consist of two sorts as defined above. We set ${\\cal U}_{place}$ to $\\{ b_1, b_2, b_3, b_4, table \\}$ as follows\n",
    "\n"
   ]
  },
  {
   "cell_type": "code",
   "execution_count": 6,
   "metadata": {
    "collapsed": true
   },
   "outputs": [],
   "source": [
    "table = bw.constant('table', place)\n",
    "b1, b2, b3, b4 = [ bw.constant('b_{}'.format(k), block) for k in (1,2,3,4) ]"
   ]
  },
  {
   "cell_type": "markdown",
   "metadata": {},
   "source": [
    "Note that since ```block``` is a subtype of ```place```, every time a new constant of sort ```block``` is defined the domain of ```place``` changes accordingly. The universe of the second sort we defined, ${\\cal U}_{blocks}$, has been set implicitly as well. We will collect all the blocks in a list for convenience."
   ]
  },
  {
   "cell_type": "code",
   "execution_count": 7,
   "metadata": {
    "collapsed": true
   },
   "outputs": [],
   "source": [
    "the_blocks = [b1, b2, b3, b4]"
   ]
  },
  {
   "cell_type": "markdown",
   "metadata": {},
   "source": [
    "As a result of the universe of discourse being fixed, every interpretation for the language ```bw``` shares sorts and associated constant symbols. On the other hand, the denotation of functions and predicates is subject to change. Interpretations (or models) ${\\cal M}$ of ```Tarski``` languages are objects that allow to associate with function and predicate symbols their denotation. "
   ]
  },
  {
   "cell_type": "code",
   "execution_count": 8,
   "metadata": {
    "collapsed": true
   },
   "outputs": [],
   "source": [
    "import tarski.model\n",
    "\n",
    "M = tarski.model.create(bw)"
   ]
  },
  {
   "cell_type": "markdown",
   "metadata": {},
   "source": [
    "For the purposes of this example, we will set the denotation of function and predicate symbols as follows"
   ]
  },
  {
   "cell_type": "code",
   "execution_count": 9,
   "metadata": {
    "collapsed": true
   },
   "outputs": [],
   "source": [
    "M.set( loc, (b1,), b2) # loc(b1) := b2\n",
    "M.set( loc, (b2,), b3) # loc(b2) := b3\n",
    "M.set( loc, (b3,), table) # loc(b3) := table\n",
    "M.set( loc, (b4,), table) # loc(b4) := table\n",
    "\n",
    "M.set( width, (b1,), 3.0) # width(b1) := 3.0\n",
    "M.set( width, (b2,), 2.0) # width(b2) := 2.0\n",
    "M.set( width, (b3,), 1.0) # width(b3) := 1.0\n",
    "M.set( width, (b4,), 0.5) # width(b4) := 0.5\n",
    "M.set( width, (table,), 100.0) # width(table) := 100.0\n",
    "\n",
    "M.set( looking_at, tuple(), table) # looking_at() := table\n",
    "\n",
    "M.add( clear, b1) # clear(b1)\n",
    "M.add( clear, b4) # clear(b4)"
   ]
  },
  {
   "cell_type": "markdown",
   "metadata": {},
   "source": [
    "## Action Schemas"
   ]
  },
  {
   "cell_type": "markdown",
   "metadata": {},
   "source": [
    "A Functional STRIPS _action schema_ $a$ is **defined** by:\n",
    " - a _name_, an alphanumeric identifier,\n",
    " - a _signature_ $(v_1,\\ldots,v_n)$, where each $v_i$ is a variable of some sort $T$,\n",
    " - a _precondition_ formula $\\mathrm{pre}(a)$, an arbitrary formula over ${\\cal L}(P)$,\n",
    " - a set of _conditional effects_ $\\mathrm{effs}(a)$\n",
    " \n",
    "Each effect $e \\in \\mathrm{effs}(a)$ can be either a _relational_ or _functional_ effect. Actions have _unspecified_ durations, measured as number of _time steps_ $dur(a)$. In Classical FSTRIPS problems durations of all actions are $1$, Differential FSTRIPS problems allow $dur(a)$ to be fixed to or bounded by an arbitrary constant. **Note**: This formalisation is still WIP."
   ]
  },
  {
   "cell_type": "markdown",
   "metadata": {},
   "source": [
    "### Relational Effects\n",
    "\n",
    "Relational effects of actions $a$ specify _general_ properties states _must_ have after the action has been executed. The current version of ```Tarski``` requires relational effects to be of the form\n",
    "\n",
    "$$\n",
    "\\phi \\rightarrow L\n",
    "$$\n",
    "\n",
    "where $\\phi$ is an arbitrary formula over ${\\cal L}(P)$ and $L$ is a **literal**. Literals are _atomic formulas_ $R(\\bar{t})$ or their negation, $\\neg R(\\bar{t})$ over the predicates $R$ of a given language. In the first case, we say that the effect is an _add effect_, in the second, a _delete effect_. \n",
    "\n",
    "Relational effects can be formalised as [Linear Temporal Logic (LTL)](http://www.cs.bham.ac.uk/research/projects/lics/) formulas such as\n",
    "\n",
    "$$\n",
    "\\phi \\rightarrow X L\n",
    "$$\n",
    "\n",
    "The above specifies the precise _meaning_ of the effect, that is: that if $\\phi$ is true on the current state, then necessarily $L$, _as interpreted in the current state_, needs to be true in the _neXt_ state.\n"
   ]
  },
  {
   "cell_type": "markdown",
   "metadata": {},
   "source": [
    "### Functional Effects\n",
    "\n",
    "Functional effects of actions $a$ allow actions to set _directly_ the denotation of a given functional symbol $f(\\bar{t})$ in states resulting from $a$ being done. ```Tarski``` current implementation of Functional STRIPS requires these effects to have the form\n",
    "\n",
    "$$\n",
    "\\phi \\rightarrow f(\\bar{t}) := w\n",
    "$$\n",
    "\n",
    "where $w$ is an **arbitrary** term. $f(\\bar{t})$ is made up of a function symbol $f$, of whatever arity, over a tuple of terms $\\bar{t}$ of appropiate size and type. The types of the term $w$ and symbol $f$ must coincide.\n",
    "\n",
    "The LTL specification for functional effects is as follows\n",
    "\n",
    "$$\n",
    "\\phi \\rightarrow X( f(\\bar{t}) = w)\n",
    "$$\n",
    "\n",
    "with the same semantics, and _proviso_ with respect to interpretation of terms, as above."
   ]
  },
  {
   "cell_type": "markdown",
   "metadata": {},
   "source": [
    "### Constructing action schemas with ```Tarski```\n",
    "\n"
   ]
  },
  {
   "cell_type": "code",
   "execution_count": 10,
   "metadata": {
    "collapsed": true
   },
   "outputs": [],
   "source": [
    "import tarski.fstrips as fs\n",
    "import tarski.syntax.temporal.ltl as ltl\n",
    "\n",
    "A = []"
   ]
  },
  {
   "cell_type": "code",
   "execution_count": 11,
   "metadata": {
    "collapsed": true
   },
   "outputs": [],
   "source": [
    "dest = bw.variable('dest', block)"
   ]
  },
  {
   "cell_type": "code",
   "execution_count": 12,
   "metadata": {
    "collapsed": true
   },
   "outputs": [],
   "source": [
    "move_schema = fs.Action(bw, name='move', \\\n",
    "                     parameters=[dest], \\\n",
    "                     precondition=land(clear(looking_at()), clear(dest), width(looking_at()) < width(dest)),\n",
    "                     effects = [\n",
    "                                    ltl.X(loc(looking_at()) == dest)\n",
    "                               ])"
   ]
  },
  {
   "cell_type": "code",
   "execution_count": 13,
   "metadata": {
    "collapsed": true
   },
   "outputs": [],
   "source": [
    "A.append(move_schema)"
   ]
  },
  {
   "cell_type": "code",
   "execution_count": 14,
   "metadata": {
    "collapsed": true
   },
   "outputs": [],
   "source": [
    "look_at_schema = fs.Action( bw, name='look_at',\\\n",
    "                           parameters=[dest],\\\n",
    "                           precondition=top,\\\n",
    "                           effects = [ ltl.X( looking_at() == dest)]\n",
    ")"
   ]
  },
  {
   "cell_type": "code",
   "execution_count": 15,
   "metadata": {
    "collapsed": true
   },
   "outputs": [],
   "source": [
    "A.append(look_at_schema)"
   ]
  },
  {
   "cell_type": "code",
   "execution_count": 16,
   "metadata": {},
   "outputs": [
    {
     "name": "stdout",
     "output_type": "stream",
     "text": [
      "0. action move:\n",
      "pre=((clear(looking_at()) and clear(dest/block) and <(width(looking_at()),width(dest/block))))\n",
      "eff=(X (=(loc(looking_at()),dest/block)))\n",
      "1. action look_at:\n",
      "pre=(T)\n",
      "eff=(X (=(looking_at(),dest/block)))\n"
     ]
    }
   ],
   "source": [
    "for k, a in enumerate(A) : print('{}. {}'.format(k,a))"
   ]
  },
  {
   "cell_type": "markdown",
   "metadata": {},
   "source": [
    "### Constraints"
   ]
  },
  {
   "cell_type": "markdown",
   "metadata": {},
   "source": [
    "The truth values of the predicate $clear(p)$ for any place $p$ need to be consistent with the following formula\n",
    "\n",
    "$$\n",
    "\\forall x/place,\\, \\neg clear(x) \\leftrightarrow x \\neq table \\land \\exists y/block,\\, loc(y)=x\n",
    "$$"
   ]
  },
  {
   "cell_type": "code",
   "execution_count": 17,
   "metadata": {},
   "outputs": [
    {
     "name": "stdout",
     "output_type": "stream",
     "text": [
      "forall x/block : (((not (not (clear(x/block))) or (!=(x/block,table) and exists y/block : (=(loc(y/block),x/block)))) and (not ((!=(x/block,table) and exists y/block : (=(loc(y/block),x/block)))) or not (clear(x/block)))))\n"
     ]
    }
   ],
   "source": [
    "x = bw.variable('x', block)\n",
    "y = bw.variable('y', block)\n",
    "clear_constraint = forall( x, equiv( neg(clear(x)), land( x != table, exists(y, loc(y) == x ) )) )\n",
    "print(clear_constraint)"
   ]
  },
  {
   "cell_type": "markdown",
   "metadata": {},
   "source": [
    "The constraint above is binding the truth value of the predicate $clear(x)$ to two conditions:\n",
    "\n",
    " - $x$ is not the $table$ object, or in  other words, $clear(table)$ is _always_ true\n",
    " - there is no block $y$ on top of $x$, e.g. $loc(y) = x$"
   ]
  },
  {
   "cell_type": "markdown",
   "metadata": {},
   "source": [
    "#### Discussion"
   ]
  },
  {
   "cell_type": "markdown",
   "metadata": {},
   "source": [
    "Reaching this point I think it now becomes clear that syntactically, it is not really necessary to introduce an ```Axiom``` entity, yet I think using the full blown F.O. notation is a bit cumbersome. For instance, the outer universal quantification isn't strictly necessary and it would be compiled away.\n",
    "\n",
    "Another important note is that the truth value of $clear(x)$ on a given state is the byproduct of verifying that a given state $s$ complies with the constraint i.e. the truth value of the predicate is part of the _model_ that satisfies the constraints."
   ]
  },
  {
   "cell_type": "markdown",
   "metadata": {},
   "source": [
    "### Goals"
   ]
  },
  {
   "cell_type": "markdown",
   "metadata": {},
   "source": [
    "$$\n",
    "loc(b_1) = loc(b_2) \\land loc(b_3) = loc(b_4) \\land loc(b_4) = table\n",
    "$$"
   ]
  },
  {
   "cell_type": "code",
   "execution_count": 18,
   "metadata": {
    "collapsed": true
   },
   "outputs": [],
   "source": [
    "G = land( loc(b1) == loc(b2), land( loc(b3) == loc(b4), loc(b4) == table))"
   ]
  },
  {
   "cell_type": "code",
   "execution_count": 19,
   "metadata": {},
   "outputs": [
    {
     "name": "stdout",
     "output_type": "stream",
     "text": [
      "(=(loc(b_1),loc(b_2)) and (=(loc(b_3),loc(b_4)) and =(loc(b_4),table)))\n"
     ]
    }
   ],
   "source": [
    "print(G)"
   ]
  },
  {
   "cell_type": "markdown",
   "metadata": {},
   "source": [
    "#### Discussion\n",
    "\n",
    "This is pretty straightforward, I think."
   ]
  },
  {
   "cell_type": "markdown",
   "metadata": {},
   "source": [
    "**Next**: \n",
    "\n",
    " a. [FSTRIPS with Differential Constraints](006_differential_constraints.ipynb)\n",
    " \n",
    " b. [Verification of LTL specifications and FSTRIPS](007_ltl_model_checking.ipynb)\n",
    " \n",
    " c. [FSTRIPS with Reactions or Events](008_reactions_and_events.ipynb)"
   ]
  },
  {
   "cell_type": "code",
   "execution_count": null,
   "metadata": {
    "collapsed": true
   },
   "outputs": [],
   "source": []
  }
 ],
 "metadata": {
  "kernelspec": {
   "display_name": "Python 3",
   "language": "python",
   "name": "python3"
  },
  "language_info": {
   "codemirror_mode": {
    "name": "ipython",
    "version": 3
   },
   "file_extension": ".py",
   "mimetype": "text/x-python",
   "name": "python",
   "nbconvert_exporter": "python",
   "pygments_lexer": "ipython3",
   "version": "3.5.2"
  }
 },
 "nbformat": 4,
 "nbformat_minor": 2
}
