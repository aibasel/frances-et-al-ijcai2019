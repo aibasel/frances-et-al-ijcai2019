{
 "cells": [
  {
   "cell_type": "code",
   "execution_count": 1,
   "metadata": {
    "collapsed": true
   },
   "outputs": [],
   "source": [
    "import sys\n",
    "sys.path.append('../src')"
   ]
  },
  {
   "cell_type": "markdown",
   "metadata": {},
   "source": [
    "**Note**: We follow in this tutorial A. G. Cohn's discussion of many-sorted logics in _Completing Sort Hierarchies_, Computers & Mathematics with Applications, 1992.\n",
    "\n",
    "## Sorts\n",
    "\n",
    "A many sorted logic is one in which the universe of discourse is divided into subsets, called *sorts*, rather than being an homogenous set. This is achieved by specifying $S$ a set of *sort symbols*, each of which denotes a non-empty set of the universe.\n",
    "\n",
    "Definining sorts in ```Tarski``` is straightforward, we start instantiating the first-order language"
   ]
  },
  {
   "cell_type": "code",
   "execution_count": 2,
   "metadata": {
    "collapsed": true
   },
   "outputs": [],
   "source": [
    "import tarski"
   ]
  },
  {
   "cell_type": "code",
   "execution_count": 3,
   "metadata": {
    "collapsed": true
   },
   "outputs": [],
   "source": [
    "fol = tarski.language()"
   ]
  },
  {
   "cell_type": "markdown",
   "metadata": {},
   "source": [
    "which will be acting as our facade to all things FOL."
   ]
  },
  {
   "cell_type": "markdown",
   "metadata": {},
   "source": [
    "In our model of _Blocks World_ we will consider two sorts, _block_ and _place_"
   ]
  },
  {
   "cell_type": "code",
   "execution_count": 4,
   "metadata": {
    "collapsed": true
   },
   "outputs": [],
   "source": [
    "block = fol.sort('block')"
   ]
  },
  {
   "cell_type": "code",
   "execution_count": 5,
   "metadata": {
    "collapsed": true
   },
   "outputs": [],
   "source": [
    "place = fol.sort('place')"
   ]
  },
  {
   "cell_type": "markdown",
   "metadata": {},
   "source": [
    "```Tarski``` allows to specify many sorted logics which only contemplate definitional hierarchies, hence sorts do not have _default_ symbols. Empty sorts are **not** allowed, and the ```well_formed``` method will raise an exception if a sort is found to be $\\emptyset$."
   ]
  },
  {
   "cell_type": "code",
   "execution_count": 6,
   "metadata": {
    "collapsed": false
   },
   "outputs": [],
   "source": [
    "# uncomment the following line and execute this cell, you should get an exception of type LanguageError\n",
    "#fol.check_well_formed()"
   ]
  },
  {
   "cell_type": "markdown",
   "metadata": {},
   "source": [
    "### Providing sorts with content"
   ]
  },
  {
   "cell_type": "markdown",
   "metadata": {},
   "source": [
    "Sorts are made of _constant symbols_, the following statement"
   ]
  },
  {
   "cell_type": "code",
   "execution_count": 7,
   "metadata": {
    "collapsed": false
   },
   "outputs": [],
   "source": [
    "b1 = fol.constant('b1', block)"
   ]
  },
  {
   "cell_type": "markdown",
   "metadata": {},
   "source": [
    "introduces the constant symbol _'b1'_ into sort _block_, which we have declared above. A language can have several sorts, with their own constants"
   ]
  },
  {
   "cell_type": "code",
   "execution_count": 8,
   "metadata": {
    "collapsed": true
   },
   "outputs": [],
   "source": [
    "table = fol.constant('table', place)"
   ]
  },
  {
   "cell_type": "markdown",
   "metadata": {},
   "source": [
    "We can declare a bunch of blocks easily too"
   ]
  },
  {
   "cell_type": "code",
   "execution_count": 9,
   "metadata": {
    "collapsed": false
   },
   "outputs": [],
   "source": [
    "b2, b3 = [fol.constant( 'b_{}'.format(k), block ) for k in (2,3)]"
   ]
  },
  {
   "cell_type": "markdown",
   "metadata": {},
   "source": [
    "by using a [generator expression](https://stackoverflow.com/questions/6416538/how-to-check-if-an-object-is-a-generator-object-in-python) to enumerate efficiently the names of the constants we want to introduce to sorts."
   ]
  },
  {
   "cell_type": "markdown",
   "metadata": {},
   "source": [
    "At any point, we can take a look at the contents of sorts declared"
   ]
  },
  {
   "cell_type": "code",
   "execution_count": 10,
   "metadata": {
    "collapsed": false
   },
   "outputs": [
    {
     "data": {
      "text/plain": [
       "[{'domain': ['b_3', 'b_2', 'b1', 'table'], 'name': 'object'},\n",
       " {'domain': [-3.40282e+38, 3.40282e+38], 'name': 'Real'},\n",
       " {'domain': [-2147483647, 2147483647], 'name': 'Integer'},\n",
       " {'domain': [0, 4294967295], 'name': 'Natural'},\n",
       " {'domain': ['b_2', 'b1', 'b_3'], 'name': 'block'},\n",
       " {'domain': ['table'], 'name': 'place'}]"
      ]
     },
     "execution_count": 10,
     "metadata": {},
     "output_type": "execute_result"
    }
   ],
   "source": [
    "fol.dump()['sorts']"
   ]
  },
  {
   "cell_type": "markdown",
   "metadata": {},
   "source": [
    "as well as any _built-in_ sorts."
   ]
  },
  {
   "cell_type": "markdown",
   "metadata": {},
   "source": [
    "### Built-in sorts"
   ]
  },
  {
   "cell_type": "markdown",
   "metadata": {},
   "source": [
    "Every language created with ```Tarski``` contains a number of _built-in_ sorts that allow modellers to account for algebraic relations and geometric concepts without having to define everything from first principles. At the time of writing this, every ```Tarski``` language comes with the following built-in sorts\n",
    " \n",
    "  - ```Real``` - the set of real numbers $\\mathbb{R}$\n",
    "  - ```Integer``` - the set of integer numbers $\\mathbb{Z}$\n",
    "  - ```Natural``` - the set of natural numbers $\\mathbb{N}$\n",
    "  \n",
    "These are represented as closed _intervals_ will well defined _lower_ and _upper_ bounds (the numbers specified in the domain). We cannot introduce symbols into built-in sorts, but we can _refer_ to them with Python variables"
   ]
  },
  {
   "cell_type": "code",
   "execution_count": 11,
   "metadata": {
    "collapsed": false
   },
   "outputs": [
    {
     "name": "stdout",
     "output_type": "stream",
     "text": [
      "3.0\n"
     ]
    }
   ],
   "source": [
    "x0 = fol.constant( 3, fol.Real )\n",
    "print(x0)"
   ]
  },
  {
   "cell_type": "code",
   "execution_count": 13,
   "metadata": {
    "collapsed": false
   },
   "outputs": [
    {
     "data": {
      "text/plain": [
       "True"
      ]
     },
     "execution_count": 13,
     "metadata": {},
     "output_type": "execute_result"
    }
   ],
   "source": [
    "fol.Real.builtin"
   ]
  },
  {
   "cell_type": "markdown",
   "metadata": {},
   "source": [
    "or"
   ]
  },
  {
   "cell_type": "code",
   "execution_count": 14,
   "metadata": {
    "collapsed": false
   },
   "outputs": [
    {
     "name": "stdout",
     "output_type": "stream",
     "text": [
      "42\n"
     ]
    }
   ],
   "source": [
    "magic = fol.constant( 42, fol.Integer)\n",
    "print(magic)"
   ]
  },
  {
   "cell_type": "markdown",
   "metadata": {},
   "source": [
    "or even"
   ]
  },
  {
   "cell_type": "code",
   "execution_count": 15,
   "metadata": {
    "collapsed": false
   },
   "outputs": [
    {
     "name": "stdout",
     "output_type": "stream",
     "text": [
      "3.141592653589793\n"
     ]
    }
   ],
   "source": [
    "pi = fol.constant( 'pi', fol.Real)\n",
    "print(pi)"
   ]
  },
  {
   "cell_type": "markdown",
   "metadata": {},
   "source": [
    "### A Hierarchy of Sorts"
   ]
  },
  {
   "cell_type": "markdown",
   "metadata": {
    "collapsed": true
   },
   "source": [
    "Sorts associated to a language can be arranged as per hierarchy, specifying the partial ordering relation $\\sqsubseteq$ to hold between two given sorts $\\alpha$ and $\\beta$"
   ]
  },
  {
   "cell_type": "code",
   "execution_count": 16,
   "metadata": {
    "collapsed": true
   },
   "outputs": [],
   "source": [
    "alpha = fol.sort('alpha')"
   ]
  },
  {
   "cell_type": "code",
   "execution_count": 17,
   "metadata": {
    "collapsed": true
   },
   "outputs": [],
   "source": [
    "beta = fol.sort('beta',[alpha])"
   ]
  },
  {
   "cell_type": "markdown",
   "metadata": {},
   "source": [
    "The list of _parents_ of $\\beta$, that is, those sorts $\\alpha$ s.t. $\\alpha \\sqsubseteq \\beta$, is accessible via the method ```parents```"
   ]
  },
  {
   "cell_type": "code",
   "execution_count": 20,
   "metadata": {
    "collapsed": false
   },
   "outputs": [
    {
     "name": "stdout",
     "output_type": "stream",
     "text": [
      "Parents of Sort(beta)\n",
      "\t -> Sort(object)\n",
      "\t -> Sort(alpha)\n"
     ]
    }
   ],
   "source": [
    "print(\"Parents of {}\".format(beta))\n",
    "for p in tarski.syntax.sorts.parents(beta) :\n",
    "    print(\"\\t -> {}\".format(p))"
   ]
  },
  {
   "cell_type": "markdown",
   "metadata": {
    "collapsed": true
   },
   "source": [
    "For built-in sorts, this relationship is already defined as expected"
   ]
  },
  {
   "cell_type": "code",
   "execution_count": 23,
   "metadata": {
    "collapsed": false
   },
   "outputs": [
    {
     "name": "stdout",
     "output_type": "stream",
     "text": [
      "Parents of Sort(Real)\n"
     ]
    }
   ],
   "source": [
    "R = fol.Real\n",
    "\n",
    "print(\"Parents of {}\".format(R))\n",
    "\n",
    "for p in tarski.syntax.sorts.parents(R) :\n",
    "    print(\"\\t -> {}\".format(p))"
   ]
  },
  {
   "cell_type": "code",
   "execution_count": 25,
   "metadata": {
    "collapsed": false
   },
   "outputs": [
    {
     "name": "stdout",
     "output_type": "stream",
     "text": [
      "Parents of Sort(Integer)\n",
      "\t -> Sort(Real)\n"
     ]
    }
   ],
   "source": [
    "Z = fol.Integer\n",
    "\n",
    "print(\"Parents of {}\".format(Z))\n",
    "\n",
    "for p in tarski.syntax.sorts.parents(Z) :\n",
    "    print(\"\\t -> {}\".format(p))"
   ]
  },
  {
   "cell_type": "code",
   "execution_count": 27,
   "metadata": {
    "collapsed": false
   },
   "outputs": [
    {
     "name": "stdout",
     "output_type": "stream",
     "text": [
      "Parents of Sort(Natural)\n",
      "\t -> Sort(Integer)\n"
     ]
    }
   ],
   "source": [
    "N = fol.Natural\n",
    "\n",
    "print(\"Parents of {}\".format(N))\n",
    "\n",
    "for p in tarski.syntax.sorts.parents(N) :\n",
    "    print(\"\\t -> {}\".format(p))"
   ]
  },
  {
   "cell_type": "markdown",
   "metadata": {},
   "source": [
    "### Next: [Functions and Predicates](002_functions_and_predicates.ipynb)"
   ]
  },
  {
   "cell_type": "code",
   "execution_count": null,
   "metadata": {
    "collapsed": true
   },
   "outputs": [],
   "source": []
  }
 ],
 "metadata": {
  "kernelspec": {
   "display_name": "Python [default]",
   "language": "python",
   "name": "python3"
  },
  "language_info": {
   "codemirror_mode": {
    "name": "ipython",
    "version": 3
   },
   "file_extension": ".py",
   "mimetype": "text/x-python",
   "name": "python",
   "nbconvert_exporter": "python",
   "pygments_lexer": "ipython3",
   "version": "3.6.0"
  }
 },
 "nbformat": 4,
 "nbformat_minor": 2
}
